{
  "metadata": {
    "language_info": {
      "codemirror_mode": {
        "name": "python",
        "version": 3
      },
      "file_extension": ".py",
      "mimetype": "text/x-python",
      "name": "python",
      "nbconvert_exporter": "python",
      "pygments_lexer": "ipython3",
      "version": "3.8"
    },
    "kernelspec": {
      "name": "python",
      "display_name": "Python (Pyodide)",
      "language": "python"
    }
  },
  "nbformat_minor": 4,
  "nbformat": 4,
  "cells": [
    {
      "cell_type": "code",
      "source": "import numpy as np\nimport matplotlib.pyplot as plt\n# include if using a Jupyter notebook\n%matplotlib inline\n\n# Data\nLB_AMP = np.array([6, 76, 33, 7, 86, 8, 0, 7, 1])\nLB_AMP_ARA = np.array([6, 57, 0, 4, 65, 10, 24, 0, 2])\n\n# Calculate the average\nLB_AMP_mean = np.mean(LB_AMP)\nLB_AMP_ARA_mean = np.mean(LB_AMP_ARA)\n\n# Calculate the standard deviation\nLB_AMP_std = np.std(LB_AMP)\nLB_AMP_ARA_std = np.std(LB_AMP_ARA)\n\n# Define labels, positions, bar heights and error bar heights\nlabels = ['LB_AMP', 'LB_AMP_ARA']\nx_pos = np.arange(len(labels))\nbar_ht = [LB_AMP_mean, LB_AMP_ARA_mean]\nerror = [LB_AMP_std, LB_AMP_ARA_std]\n\n# Build the plot\nfig, ax = plt.subplots()\nax.bar(x_pos, bar_ht,\n       yerr=error,\n       align='center',\n       alpha=0.5,\n       ecolor='black',\n       capsize=10)\nax.set_ylim(ymin=0)\nax.set_ylabel('No. of Colonies')\nax.set_xticks(x_pos)\nax.set_xticklabels(labels)\nax.set_title('Number of bacterial colonies')\nax.yaxis.grid(True)\n\n# Save the figure and show\nplt.tight_layout()\nplt.show()",
      "metadata": {
        "trusted": true
      },
      "execution_count": 35,
      "outputs": [
        {
          "output_type": "display_data",
          "data": {
            "text/plain": "<pyolite.display.Image at 0x565fc50>",
            "image/png": "[encoded data removed]"
          },
          "metadata": {}
        },
        {
          "output_type": "display_data",
          "data": {
            "text/plain": "<Figure size 432x288 with 0 Axes>"
          },
          "metadata": {}
        }
      ]
    },
    {
      "cell_type": "code",
      "source": "",
      "metadata": {},
      "execution_count": null,
      "outputs": []
    }
  ]
}